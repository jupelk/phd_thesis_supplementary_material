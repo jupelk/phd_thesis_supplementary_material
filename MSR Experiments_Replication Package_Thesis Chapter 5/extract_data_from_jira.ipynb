{
 "cells": [
  {
   "cell_type": "code",
   "execution_count": 4,
   "metadata": {},
   "outputs": [],
   "source": [
    "#Install JIRA\n",
    "# !pip install jira"
   ]
  },
  {
   "cell_type": "code",
   "execution_count": 1,
   "metadata": {},
   "outputs": [],
   "source": [
    "#import JIRA instance\n",
    "from jira import JIRA\n",
    "\n",
    "jira = JIRA(server=\"https://issues.apache.org/jira\")\n"
   ]
  },
  {
   "cell_type": "code",
   "execution_count": null,
   "metadata": {},
   "outputs": [],
   "source": [
    "import pandas as pd\n",
    "file_path = \"C:\\\\CodeBook\\\\new_code_rework_TD\\\\commits.csv\"\n",
    "df = pd.read_csv(file_path)\n",
    "print(df)"
   ]
  },
  {
   "cell_type": "code",
   "execution_count": null,
   "metadata": {},
   "outputs": [],
   "source": [
    "for index, row in df.iterrows():\n",
    "    if isinstance(row['msg'], str) and row['msg'].startswith(\"HADOOP-\"):\n",
    "        print(row['msg'])"
   ]
  },
  {
   "cell_type": "code",
   "execution_count": 24,
   "metadata": {},
   "outputs": [],
   "source": [
    "import re\n",
    "pattern = re.compile(r'HADOOP-(\\d+)')\n",
    "\n",
    "for index, row in df.iterrows():\n",
    "    if isinstance(row['msg'], str) and row['msg'].startswith(\"HADOOP-\"):\n",
    "        #print(row['msg'])\n",
    "        match = pattern.search(row['msg'])\n",
    "        if match:\n",
    "            #print(f\"HADOOP-{match.group(1)}\")\n",
    "            issue = jira.issue(f\"HADOOP-{match.group(1)}\")"
   ]
  },
  {
   "cell_type": "code",
   "execution_count": 30,
   "metadata": {},
   "outputs": [
    {
     "data": {
      "text/plain": [
       "'Fixed'"
      ]
     },
     "execution_count": 30,
     "metadata": {},
     "output_type": "execute_result"
    }
   ],
   "source": [
    "issue.fields.summary\n",
    "issue.fields.issuetype.name\n",
    "issue.fields.status.name\n",
    "issue.fields.resolution.name"
   ]
  },
  {
   "cell_type": "code",
   "execution_count": 5,
   "metadata": {},
   "outputs": [],
   "source": [
    "import re\n",
    "pattern = re.compile(r'HADOOP-(\\d+)')\n",
    "\n",
    "def new_message(row):\n",
    "    if row.startswith(\"HADOOP-\"):\n",
    "        match = pattern.search(row)\n",
    "        if match:\n",
    "            issue = jira.issue(f\"HADOOP-{match.group(1)}\")\n",
    "            return issue\n",
    "    return None\n",
    "\n",
    "df['msg'] = df['msg'].fillna('')\n",
    "df['jira issue key'] = df['msg'].apply(lambda x: new_message(x).key if new_message(x) else '')\n",
    "df['summary'] = df['msg'].apply(lambda x: new_message(x).fields.summary if new_message(x) else '')\n",
    "df['issue type'] = df['msg'].apply(lambda x: new_message(x).fields.issuetype.name if new_message(x) else '')\n",
    "df['status'] = df['msg'].apply(lambda x: new_message(x).fields.status.name if new_message(x) else '')\n",
    "df['resolution'] = df['msg'].apply(lambda x: new_message(x).fields.resolution.name if new_message(x) else '')\n",
    "\n",
    "df.to_csv('c:\\\\CodeBook\\\\new_code_rework_TD\\\\commits.csv', index=False)\n"
   ]
  },
  {
   "cell_type": "code",
   "execution_count": null,
   "metadata": {},
   "outputs": [],
   "source": []
  }
 ],
 "metadata": {
  "kernelspec": {
   "display_name": "venv",
   "language": "python",
   "name": "python3"
  },
  "language_info": {
   "codemirror_mode": {
    "name": "ipython",
    "version": 3
   },
   "file_extension": ".py",
   "mimetype": "text/x-python",
   "name": "python",
   "nbconvert_exporter": "python",
   "pygments_lexer": "ipython3",
   "version": "3.10.0"
  },
  "orig_nbformat": 4,
  "vscode": {
   "interpreter": {
    "hash": "9306dfc64d0c3ce6839a6f65398a2bd48776db0362f068736d6c3d36b7b2ee70"
   }
  }
 },
 "nbformat": 4,
 "nbformat_minor": 2
}
