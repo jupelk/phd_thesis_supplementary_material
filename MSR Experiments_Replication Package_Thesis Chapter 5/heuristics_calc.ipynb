{
 "cells": [
  {
   "cell_type": "code",
   "execution_count": 4,
   "metadata": {},
   "outputs": [
    {
     "ename": "ValueError",
     "evalue": "The truth value of a Series is ambiguous. Use a.empty, a.bool(), a.item(), a.any() or a.all().",
     "output_type": "error",
     "traceback": [
      "\u001b[1;31m---------------------------------------------------------------------------\u001b[0m",
      "\u001b[1;31mValueError\u001b[0m                                Traceback (most recent call last)",
      "Cell \u001b[1;32mIn[4], line 54\u001b[0m\n\u001b[0;32m     52\u001b[0m \u001b[39mfor\u001b[39;00m row \u001b[39min\u001b[39;00m dataset_s500\u001b[39m.\u001b[39miterrows():\n\u001b[0;32m     53\u001b[0m     \u001b[39mif\u001b[39;00m row[\u001b[39m1\u001b[39m][\u001b[39m'\u001b[39m\u001b[39mchange_type\u001b[39m\u001b[39m'\u001b[39m] \u001b[39mis\u001b[39;00m \u001b[39mnot\u001b[39;00m \u001b[39mNone\u001b[39;00m:    \n\u001b[1;32m---> 54\u001b[0m         new_code, rework \u001b[39m=\u001b[39m calculate_new_code_and_rework(row)\n\u001b[0;32m     55\u001b[0m         dataset_s500\u001b[39m.\u001b[39mat[row[\u001b[39m0\u001b[39m], \u001b[39m'\u001b[39m\u001b[39mnew_code\u001b[39m\u001b[39m'\u001b[39m] \u001b[39m=\u001b[39m new_code\n\u001b[0;32m     56\u001b[0m         dataset_s500\u001b[39m.\u001b[39mat[row[\u001b[39m0\u001b[39m], \u001b[39m'\u001b[39m\u001b[39mrework\u001b[39m\u001b[39m'\u001b[39m] \u001b[39m=\u001b[39m rework\n",
      "Cell \u001b[1;32mIn[4], line 22\u001b[0m, in \u001b[0;36mcalculate_new_code_and_rework\u001b[1;34m(row)\u001b[0m\n\u001b[0;32m     19\u001b[0m added_lines \u001b[39m=\u001b[39m dataset_s500[\u001b[39m'\u001b[39m\u001b[39madded_lines\u001b[39m\u001b[39m'\u001b[39m]\n\u001b[0;32m     20\u001b[0m deleted_lines \u001b[39m=\u001b[39m dataset_s500[\u001b[39m'\u001b[39m\u001b[39mdeleted_lines\u001b[39m\u001b[39m'\u001b[39m]  \n\u001b[1;32m---> 22\u001b[0m new_code \u001b[39m+\u001b[39m\u001b[39m=\u001b[39m \u001b[39mmax\u001b[39;49m(\u001b[39m0\u001b[39;49m, added_lines \u001b[39m-\u001b[39;49m deleted_lines)\n\u001b[0;32m     23\u001b[0m rework \u001b[39m+\u001b[39m\u001b[39m=\u001b[39m \u001b[39mmin\u001b[39m(deleted_lines, added_lines)\n\u001b[0;32m     25\u001b[0m \u001b[39mif\u001b[39;00m change_type \u001b[39m==\u001b[39m ModificationType\u001b[39m.\u001b[39mADD: \u001b[39m# everything is new code because deleted lines are zero\u001b[39;00m\n",
      "File \u001b[1;32mc:\\CodeBook\\new_code_rework_TD\\new_code_rework_TD\\venv\\lib\\site-packages\\pandas\\core\\generic.py:1527\u001b[0m, in \u001b[0;36mNDFrame.__nonzero__\u001b[1;34m(self)\u001b[0m\n\u001b[0;32m   1525\u001b[0m \u001b[39m@final\u001b[39m\n\u001b[0;32m   1526\u001b[0m \u001b[39mdef\u001b[39;00m \u001b[39m__nonzero__\u001b[39m(\u001b[39mself\u001b[39m) \u001b[39m-\u001b[39m\u001b[39m>\u001b[39m NoReturn:\n\u001b[1;32m-> 1527\u001b[0m     \u001b[39mraise\u001b[39;00m \u001b[39mValueError\u001b[39;00m(\n\u001b[0;32m   1528\u001b[0m         \u001b[39mf\u001b[39m\u001b[39m\"\u001b[39m\u001b[39mThe truth value of a \u001b[39m\u001b[39m{\u001b[39;00m\u001b[39mtype\u001b[39m(\u001b[39mself\u001b[39m)\u001b[39m.\u001b[39m\u001b[39m__name__\u001b[39m\u001b[39m}\u001b[39;00m\u001b[39m is ambiguous. \u001b[39m\u001b[39m\"\u001b[39m\n\u001b[0;32m   1529\u001b[0m         \u001b[39m\"\u001b[39m\u001b[39mUse a.empty, a.bool(), a.item(), a.any() or a.all().\u001b[39m\u001b[39m\"\u001b[39m\n\u001b[0;32m   1530\u001b[0m     )\n",
      "\u001b[1;31mValueError\u001b[0m: The truth value of a Series is ambiguous. Use a.empty, a.bool(), a.item(), a.any() or a.all()."
     ]
    }
   ],
   "source": [
    "import pandas as pd\n",
    "from enum import Enum\n",
    "\n",
    "class ModificationType(Enum):\n",
    "    MODIFY = 1\n",
    "    ADD = 2\n",
    "    DELETE = 3\n",
    "\n",
    "dataset_s500 = pd.read_csv('c:\\\\CodeBook\\\\new_code_rework_TD\\\\commits_with_jira_sample_concsecutive_500_aggregated.csv')\n",
    "dataset_s500['new_code'] = ''\n",
    "dataset_s500['rework'] = ''\n",
    "\n",
    "def calculate_new_code_and_rework(row):\n",
    "    new_code = 0\n",
    "    rework = 0\n",
    "    \n",
    "    #for sub_row in row.iterrows():\n",
    "    change_type = dataset_s500['change_type']\n",
    "    added_lines = dataset_s500['added_lines']\n",
    "    deleted_lines = dataset_s500['deleted_lines']  \n",
    "\n",
    "    new_code += max(0, added_lines - deleted_lines)\n",
    "    rework += min(deleted_lines, added_lines)\n",
    "        \n",
    "    if change_type == ModificationType.ADD: # everything is new code because deleted lines are zero\n",
    "        new_code += added_lines\n",
    "    elif change_type == ModificationType.DELETE: # everything is rework because added lines are zero\n",
    "        rework += deleted_lines #0\n",
    "    elif change_type == ModificationType.MODIFY: # there can be both new code and rework \n",
    "        # check if added lines are zero\n",
    "        if added_lines == 0:\n",
    "            rework += deleted_lines\n",
    "            #continue\n",
    "        #check if deleted lines are zero\n",
    "        if deleted_lines == 0:\n",
    "            new_code += added_lines\n",
    "            #continue\n",
    "        elif added_lines == deleted_lines:\n",
    "            rework += deleted_lines # all is rework (changed lines e.g. renaming something inside a method or class or inside a file)\n",
    "\n",
    "        #  add 100, del 99 -> 1 new line, 99 rework. add 99, del 100 -> 99 rework, \n",
    "\n",
    "        elif added_lines > deleted_lines:\n",
    "            new_code += added_lines - deleted_lines \n",
    "            rework += deleted_lines\n",
    "        elif added_lines < deleted_lines:\n",
    "            rework += deleted_lines - added_lines\n",
    "            new_code += added_lines\n",
    "                \n",
    "    return new_code, rework\n",
    "\n",
    "for row in dataset_s500.iterrows():\n",
    "    if row[1]['change_type'] is not None:    \n",
    "        new_code, rework = calculate_new_code_and_rework(row)\n",
    "        dataset_s500.at[row[0], 'new_code'] = new_code\n",
    "        dataset_s500.at[row[0], 'rework'] = rework\n",
    "    if row.Index == 5:\n",
    "        break"
   ]
  }
 ],
 "metadata": {
  "kernelspec": {
   "display_name": "venv",
   "language": "python",
   "name": "python3"
  },
  "language_info": {
   "codemirror_mode": {
    "name": "ipython",
    "version": 3
   },
   "file_extension": ".py",
   "mimetype": "text/x-python",
   "name": "python",
   "nbconvert_exporter": "python",
   "pygments_lexer": "ipython3",
   "version": "3.10.0"
  },
  "orig_nbformat": 4,
  "vscode": {
   "interpreter": {
    "hash": "9306dfc64d0c3ce6839a6f65398a2bd48776db0362f068736d6c3d36b7b2ee70"
   }
  }
 },
 "nbformat": 4,
 "nbformat_minor": 2
}
