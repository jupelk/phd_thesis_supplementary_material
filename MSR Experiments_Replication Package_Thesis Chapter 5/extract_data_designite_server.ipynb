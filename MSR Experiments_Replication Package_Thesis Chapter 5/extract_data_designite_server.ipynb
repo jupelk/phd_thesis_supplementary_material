{
 "cells": [
  {
   "cell_type": "code",
   "execution_count": 1,
   "metadata": {},
   "outputs": [
    {
     "name": "stdout",
     "output_type": "stream",
     "text": [
      "^C\n"
     ]
    }
   ],
   "source": [
    "#login to the server through ssh\n",
    "#power shell command\n",
    "!ssh ubuntu@150.230.14.253"
   ]
  },
  {
   "cell_type": "code",
   "execution_count": null,
   "metadata": {},
   "outputs": [],
   "source": [
    "#generate csv file with design and architecture smell results from designite\n",
    "\n",
    "\n",
    "import pandas as pd\n",
    "import csv\n",
    "\n",
    "main_data_df = pd.read_csv('c:\\\\CodeBook\\\\new_code_rework_TD\\\\sample_main_rows_with_aggregated_data_and_sq_code_smells.csv')\n",
    "main_data_df['design_smells'] = ''\n",
    "main_data_df['design_smell_diff'] = ''\n",
    "main_data_df['architecture_smells'] = ''\n",
    "main_data_df['architecture_smell_diff'] = ''\n",
    "\n",
    "#method to get design smells\n",
    "def get_design_smells(input_path):\n",
    "    csv_path = input_path + '\\\\DesignSmells.csv'\n",
    "    with open(csv_path, 'r') as csvfile:\n",
    "        dialect = csv.Sniffer().sniff(csvfile.read(1024))\n",
    "        csvfile.seek(0)\n",
    "        reader = csv.reader(csvfile, dialect)\n",
    "        header = next(reader)  # skip header row\n",
    "        count = 0\n",
    "        for row in reader:\n",
    "            if len(row) < 2:\n",
    "                continue  # skip rows with fewer than two elements\n",
    "            count += 1\n",
    "            elements = row[1].split(',')\n",
    "            if len(elements) < 4:\n",
    "                continue  # skip rows with fewer than four comma-separated elements\n",
    "    return count\n",
    "\n",
    "#method to get arch smells\n",
    "def get_arch_smells(input_path):\n",
    "    csv_path = input_path + '\\\\ArchitectureSmells.csv'\n",
    "    with open(csv_path, 'r') as csvfile:\n",
    "        dialect = csv.Sniffer().sniff(csvfile.read(1024))\n",
    "        csvfile.seek(0)\n",
    "        reader = csv.reader(csvfile, dialect)\n",
    "        header = next(reader)  # skip header row\n",
    "        count = 0\n",
    "        for row in reader:\n",
    "            if len(row) < 3:\n",
    "                continue  # skip rows with fewer than three elements becasue arch smells is the third column\n",
    "            count += 1\n",
    "            #print(row[2])\n",
    "    return count\n",
    "\n",
    "\n",
    "indices = main_data_df.index.to_list()\n",
    "input_folders = []\n",
    "\n",
    "for i in range(len(indices)):      \n",
    "    if i % 10 == 0:\n",
    "        input_folder = 'C:\\Tools\\Designite\\Output' + str(i)  \n",
    "        #get design smells\n",
    "        main_data_df.loc[i, ['design_smells']] = get_design_smells(input_folder)\n",
    "        #get arch smells\n",
    "        main_data_df.loc[i, ['architecture_smells']] = get_arch_smells(input_folder)\n",
    "        if i != 0:\n",
    "            prev_input_folder = 'C:\\Tools\\Designite\\Output' + str(i-10)\n",
    "            #print(prev_input_folder)\n",
    "            #get design smells diff\n",
    "            main_data_df.loc[i, ['design_smell_diff']] = get_design_smells(input_folder) - get_design_smells(prev_input_folder)\n",
    "            #get arch smells diff\n",
    "            main_data_df.loc[i, ['architecture_smell_diff']] = get_arch_smells(input_folder) - get_arch_smells(prev_input_folder)\n",
    "        elif i == 0:\n",
    "            main_data_df.loc[i, ['design_smell_diff']] = 0\n",
    "            main_data_df.loc[i, ['architecture_smell_diff']] = 0\n",
    "    #if i == 10:\n",
    "        #break\n",
    "\n",
    "main_data_df.to_csv('c:\\\\CodeBook\\\\new_code_rework_TD\\\\main_data_with_code_design_arch_smells.csv', index=False)"
   ]
  }
 ],
 "metadata": {
  "kernelspec": {
   "display_name": "venv",
   "language": "python",
   "name": "python3"
  },
  "language_info": {
   "codemirror_mode": {
    "name": "ipython",
    "version": 3
   },
   "file_extension": ".py",
   "mimetype": "text/x-python",
   "name": "python",
   "nbconvert_exporter": "python",
   "pygments_lexer": "ipython3",
   "version": "3.10.0"
  },
  "orig_nbformat": 4,
  "vscode": {
   "interpreter": {
    "hash": "9306dfc64d0c3ce6839a6f65398a2bd48776db0362f068736d6c3d36b7b2ee70"
   }
  }
 },
 "nbformat": 4,
 "nbformat_minor": 2
}
